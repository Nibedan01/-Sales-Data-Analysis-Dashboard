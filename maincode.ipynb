import pandas as pd
import numpy as np
import sqlite3
import matplotlib.pyplot as plt

# 1. Generate synthetic order data
np.random.seed(42)
products = ['Shirt', 'Shoes', 'Bag', 'Watch']
customers = [f'CUST_{i}' for i in range(1, 21)]
dates = pd.date_range(start='2024-01-01', periods=60, freq='D')

data = {
    'OrderID': range(1, 101),
    'Customer': np.random.choice(customers, 100),
    'Product': np.random.choice(products, 100),
    'OrderDate': np.random.choice(dates, 100),
    'Revenue': np.random.randint(500, 3000, 100)
}
df = pd.DataFrame(data)

# 2. Store in SQLite
conn = sqlite3.connect(':memory:')
df.to_sql('orders', conn, index=False, if_exists='replace')

# 3. Query insights
top_products = pd.read_sql("""
SELECT Product, SUM(Revenue) as TotalRevenue
FROM orders
GROUP BY Product
ORDER BY TotalRevenue DESC
""", conn)

print("Top Selling Products:\n", top_products)

# 4. Monthly revenue trend
df['Month'] = pd.to_datetime(df['OrderDate']).dt.to_period('M')
monthly_revenue = df.groupby('Month')['Revenue'].sum().reset_index()
monthly_revenue['Month'] = monthly_revenue['Month'].astype(str)

# 5. Visualizations
plt.figure(figsize=(8,5))
plt.bar(top_products['Product'], top_products['TotalRevenue'], color='orange')
plt.title("Top Selling Products")
plt.show()

plt.figure(figsize=(8,5))
plt.plot(monthly_revenue['Month'], monthly_revenue['Revenue'], marker='o')
plt.title("Monthly Revenue Trend")
plt.show()
